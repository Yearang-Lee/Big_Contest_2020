{
 "cells": [
  {
   "cell_type": "markdown",
   "metadata": {},
   "source": [
    "# 목표 : '취급액' 예측하기"
   ]
  },
  {
   "cell_type": "code",
   "execution_count": 1,
   "metadata": {},
   "outputs": [],
   "source": [
    "import pandas as pd\n",
    "\n",
    "#데이터 시각화\n",
    "import matplotlib\n",
    "import matplotlib.pyplot as plt\n",
    "\n",
    "# Scaling 클래스\n",
    "from sklearn.preprocessing import scale, minmax_scale,robust_scale\n",
    "# matplotlib 이용한 Background 그래프 실행 및 결과 확인\n",
    "%matplotlib inline"
   ]
  },
  {
   "cell_type": "markdown",
   "metadata": {},
   "source": [
    "# 1. 데이터 불러오기 & 정보 확인"
   ]
  },
  {
   "cell_type": "code",
   "execution_count": 2,
   "metadata": {
    "scrolled": true
   },
   "outputs": [
    {
     "data": {
      "text/html": [
       "<div>\n",
       "<style scoped>\n",
       "    .dataframe tbody tr th:only-of-type {\n",
       "        vertical-align: middle;\n",
       "    }\n",
       "\n",
       "    .dataframe tbody tr th {\n",
       "        vertical-align: top;\n",
       "    }\n",
       "\n",
       "    .dataframe thead th {\n",
       "        text-align: right;\n",
       "    }\n",
       "</style>\n",
       "<table border=\"1\" class=\"dataframe\">\n",
       "  <thead>\n",
       "    <tr style=\"text-align: right;\">\n",
       "      <th></th>\n",
       "      <th>방송일시</th>\n",
       "      <th>노출(분)</th>\n",
       "      <th>마더코드</th>\n",
       "      <th>상품코드</th>\n",
       "      <th>상품명</th>\n",
       "      <th>상품군</th>\n",
       "      <th>판매단가</th>\n",
       "      <th>취급액</th>\n",
       "    </tr>\n",
       "  </thead>\n",
       "  <tbody>\n",
       "    <tr>\n",
       "      <th>0</th>\n",
       "      <td>2019-01-01 6:00</td>\n",
       "      <td>20.0</td>\n",
       "      <td>100346</td>\n",
       "      <td>201072</td>\n",
       "      <td>테이트 남성 셀린니트3종</td>\n",
       "      <td>의류</td>\n",
       "      <td>39,900</td>\n",
       "      <td>2,099,000</td>\n",
       "    </tr>\n",
       "    <tr>\n",
       "      <th>1</th>\n",
       "      <td>2019-01-01 6:00</td>\n",
       "      <td>NaN</td>\n",
       "      <td>100346</td>\n",
       "      <td>201079</td>\n",
       "      <td>테이트 여성 셀린니트3종</td>\n",
       "      <td>의류</td>\n",
       "      <td>39,900</td>\n",
       "      <td>4,371,000</td>\n",
       "    </tr>\n",
       "    <tr>\n",
       "      <th>2</th>\n",
       "      <td>2019-01-01 6:20</td>\n",
       "      <td>20.0</td>\n",
       "      <td>100346</td>\n",
       "      <td>201072</td>\n",
       "      <td>테이트 남성 셀린니트3종</td>\n",
       "      <td>의류</td>\n",
       "      <td>39,900</td>\n",
       "      <td>3,262,000</td>\n",
       "    </tr>\n",
       "    <tr>\n",
       "      <th>3</th>\n",
       "      <td>2019-01-01 6:20</td>\n",
       "      <td>NaN</td>\n",
       "      <td>100346</td>\n",
       "      <td>201079</td>\n",
       "      <td>테이트 여성 셀린니트3종</td>\n",
       "      <td>의류</td>\n",
       "      <td>39,900</td>\n",
       "      <td>6,955,000</td>\n",
       "    </tr>\n",
       "    <tr>\n",
       "      <th>4</th>\n",
       "      <td>2019-01-01 6:40</td>\n",
       "      <td>20.0</td>\n",
       "      <td>100346</td>\n",
       "      <td>201072</td>\n",
       "      <td>테이트 남성 셀린니트3종</td>\n",
       "      <td>의류</td>\n",
       "      <td>39,900</td>\n",
       "      <td>6,672,000</td>\n",
       "    </tr>\n",
       "  </tbody>\n",
       "</table>\n",
       "</div>"
      ],
      "text/plain": [
       "              방송일시  노출(분)    마더코드    상품코드            상품명 상품군    판매단가  \\\n",
       "0  2019-01-01 6:00   20.0  100346  201072  테이트 남성 셀린니트3종  의류  39,900   \n",
       "1  2019-01-01 6:00    NaN  100346  201079  테이트 여성 셀린니트3종  의류  39,900   \n",
       "2  2019-01-01 6:20   20.0  100346  201072  테이트 남성 셀린니트3종  의류  39,900   \n",
       "3  2019-01-01 6:20    NaN  100346  201079  테이트 여성 셀린니트3종  의류  39,900   \n",
       "4  2019-01-01 6:40   20.0  100346  201072  테이트 남성 셀린니트3종  의류  39,900   \n",
       "\n",
       "        취급액   \n",
       "0  2,099,000  \n",
       "1  4,371,000  \n",
       "2  3,262,000  \n",
       "3  6,955,000  \n",
       "4  6,672,000  "
      ]
     },
     "execution_count": 2,
     "metadata": {},
     "output_type": "execute_result"
    }
   ],
   "source": [
    "df_raw = pd.read_csv(\"2019년 실적데이터.csv\", encoding='cp949')\n",
    "df_raw.head()"
   ]
  },
  {
   "cell_type": "code",
   "execution_count": 3,
   "metadata": {
    "scrolled": true
   },
   "outputs": [
    {
     "name": "stdout",
     "output_type": "stream",
     "text": [
      "<class 'pandas.core.frame.DataFrame'>\n",
      "RangeIndex: 38309 entries, 0 to 38308\n",
      "Data columns (total 8 columns):\n",
      " #   Column  Non-Null Count  Dtype  \n",
      "---  ------  --------------  -----  \n",
      " 0   방송일시    38309 non-null  object \n",
      " 1   노출(분)   21525 non-null  float64\n",
      " 2   마더코드    38309 non-null  int64  \n",
      " 3   상품코드    38309 non-null  int64  \n",
      " 4   상품명     38309 non-null  object \n",
      " 5   상품군     38309 non-null  object \n",
      " 6   판매단가    38309 non-null  object \n",
      " 7    취급액    37372 non-null  object \n",
      "dtypes: float64(1), int64(2), object(5)\n",
      "memory usage: 2.3+ MB\n"
     ]
    }
   ],
   "source": [
    "df_raw.info()"
   ]
  },
  {
   "cell_type": "markdown",
   "metadata": {},
   "source": [
    "> 판매단가, 취급액이 object  \n",
    "==> int 변환 필요"
   ]
  },
  {
   "cell_type": "code",
   "execution_count": 4,
   "metadata": {},
   "outputs": [
    {
     "data": {
      "text/html": [
       "<div>\n",
       "<style scoped>\n",
       "    .dataframe tbody tr th:only-of-type {\n",
       "        vertical-align: middle;\n",
       "    }\n",
       "\n",
       "    .dataframe tbody tr th {\n",
       "        vertical-align: top;\n",
       "    }\n",
       "\n",
       "    .dataframe thead th {\n",
       "        text-align: right;\n",
       "    }\n",
       "</style>\n",
       "<table border=\"1\" class=\"dataframe\">\n",
       "  <thead>\n",
       "    <tr style=\"text-align: right;\">\n",
       "      <th></th>\n",
       "      <th>노출(분)</th>\n",
       "      <th>마더코드</th>\n",
       "      <th>상품코드</th>\n",
       "    </tr>\n",
       "  </thead>\n",
       "  <tbody>\n",
       "    <tr>\n",
       "      <th>count</th>\n",
       "      <td>21525.000000</td>\n",
       "      <td>38309.000000</td>\n",
       "      <td>38309.000000</td>\n",
       "    </tr>\n",
       "    <tr>\n",
       "      <th>mean</th>\n",
       "      <td>20.173798</td>\n",
       "      <td>100390.972148</td>\n",
       "      <td>201219.923334</td>\n",
       "    </tr>\n",
       "    <tr>\n",
       "      <th>std</th>\n",
       "      <td>3.633283</td>\n",
       "      <td>249.927870</td>\n",
       "      <td>735.677344</td>\n",
       "    </tr>\n",
       "    <tr>\n",
       "      <th>min</th>\n",
       "      <td>2.000000</td>\n",
       "      <td>100000.000000</td>\n",
       "      <td>200000.000000</td>\n",
       "    </tr>\n",
       "    <tr>\n",
       "      <th>25%</th>\n",
       "      <td>20.000000</td>\n",
       "      <td>100155.000000</td>\n",
       "      <td>200550.000000</td>\n",
       "    </tr>\n",
       "    <tr>\n",
       "      <th>50%</th>\n",
       "      <td>20.000000</td>\n",
       "      <td>100346.000000</td>\n",
       "      <td>201167.000000</td>\n",
       "    </tr>\n",
       "    <tr>\n",
       "      <th>75%</th>\n",
       "      <td>20.000000</td>\n",
       "      <td>100596.000000</td>\n",
       "      <td>201863.000000</td>\n",
       "    </tr>\n",
       "    <tr>\n",
       "      <th>max</th>\n",
       "      <td>60.000000</td>\n",
       "      <td>100849.000000</td>\n",
       "      <td>202513.000000</td>\n",
       "    </tr>\n",
       "  </tbody>\n",
       "</table>\n",
       "</div>"
      ],
      "text/plain": [
       "              노출(분)           마더코드           상품코드\n",
       "count  21525.000000   38309.000000   38309.000000\n",
       "mean      20.173798  100390.972148  201219.923334\n",
       "std        3.633283     249.927870     735.677344\n",
       "min        2.000000  100000.000000  200000.000000\n",
       "25%       20.000000  100155.000000  200550.000000\n",
       "50%       20.000000  100346.000000  201167.000000\n",
       "75%       20.000000  100596.000000  201863.000000\n",
       "max       60.000000  100849.000000  202513.000000"
      ]
     },
     "execution_count": 4,
     "metadata": {},
     "output_type": "execute_result"
    }
   ],
   "source": [
    "df_raw.describe()"
   ]
  },
  {
   "cell_type": "markdown",
   "metadata": {},
   "source": [
    "# 2, 결측치,이상치 확인 및 처리"
   ]
  },
  {
   "cell_type": "code",
   "execution_count": 5,
   "metadata": {},
   "outputs": [
    {
     "data": {
      "text/plain": [
       "방송일시         0\n",
       "노출(분)    16784\n",
       "마더코드         0\n",
       "상품코드         0\n",
       "상품명          0\n",
       "상품군          0\n",
       "판매단가         0\n",
       " 취급액       937\n",
       "dtype: int64"
      ]
     },
     "execution_count": 5,
     "metadata": {},
     "output_type": "execute_result"
    }
   ],
   "source": [
    "# 결측치 개수 확인\n",
    "df_raw.isnull().sum() "
   ]
  },
  {
   "cell_type": "markdown",
   "metadata": {},
   "source": [
    "### '노출(분)'"
   ]
  },
  {
   "cell_type": "markdown",
   "metadata": {},
   "source": [
    "노출(분)에 대한 결측값은 바로 앞 행과 동시간대이므로  \n",
    "==> 바로 앞 행 값으로 결측값 채우면 된다."
   ]
  },
  {
   "cell_type": "code",
   "execution_count": 6,
   "metadata": {},
   "outputs": [
    {
     "data": {
      "text/plain": [
       "방송일시       0\n",
       "노출(분)      0\n",
       "마더코드       0\n",
       "상품코드       0\n",
       "상품명        0\n",
       "상품군        0\n",
       "판매단가       0\n",
       " 취급액     937\n",
       "dtype: int64"
      ]
     },
     "execution_count": 6,
     "metadata": {},
     "output_type": "execute_result"
    }
   ],
   "source": [
    "df_raw['노출(분)'] = df_raw['노출(분)'].fillna(method='ffill') # 앞 방향으로 채우기\n",
    "\n",
    "df_raw.isnull().sum() "
   ]
  },
  {
   "cell_type": "code",
   "execution_count": 7,
   "metadata": {},
   "outputs": [],
   "source": [
    "df_raw['노출(분)']= df_raw['노출(분)'].astype(int)"
   ]
  },
  {
   "cell_type": "markdown",
   "metadata": {},
   "source": [
    "### '취급액'"
   ]
  },
  {
   "cell_type": "markdown",
   "metadata": {},
   "source": [
    "결측값 있는 행 전체 삭제"
   ]
  },
  {
   "cell_type": "code",
   "execution_count": 8,
   "metadata": {},
   "outputs": [
    {
     "data": {
      "text/plain": [
       "방송일시     0\n",
       "노출(분)    0\n",
       "마더코드     0\n",
       "상품코드     0\n",
       "상품명      0\n",
       "상품군      0\n",
       "판매단가     0\n",
       " 취급액     0\n",
       "dtype: int64"
      ]
     },
     "execution_count": 8,
     "metadata": {},
     "output_type": "execute_result"
    }
   ],
   "source": [
    "df_raw = df_raw.dropna(axis=0)\n",
    "\n",
    "df_raw.isnull().sum() "
   ]
  },
  {
   "cell_type": "code",
   "execution_count": 9,
   "metadata": {},
   "outputs": [
    {
     "data": {
      "text/plain": [
       "<matplotlib.axes._subplots.AxesSubplot at 0x23451d0b988>"
      ]
     },
     "execution_count": 9,
     "metadata": {},
     "output_type": "execute_result"
    },
    {
     "name": "stderr",
     "output_type": "stream",
     "text": [
      "C:\\Users\\lsl\\anaconda3\\envs\\venv\\lib\\site-packages\\matplotlib\\backends\\backend_agg.py:214: RuntimeWarning: Glyph 45432 missing from current font.\n",
      "  font.set_text(s, 0.0, flags=flags)\n",
      "C:\\Users\\lsl\\anaconda3\\envs\\venv\\lib\\site-packages\\matplotlib\\backends\\backend_agg.py:214: RuntimeWarning: Glyph 52636 missing from current font.\n",
      "  font.set_text(s, 0.0, flags=flags)\n",
      "C:\\Users\\lsl\\anaconda3\\envs\\venv\\lib\\site-packages\\matplotlib\\backends\\backend_agg.py:214: RuntimeWarning: Glyph 48516 missing from current font.\n",
      "  font.set_text(s, 0.0, flags=flags)\n",
      "C:\\Users\\lsl\\anaconda3\\envs\\venv\\lib\\site-packages\\matplotlib\\backends\\backend_agg.py:214: RuntimeWarning: Glyph 47560 missing from current font.\n",
      "  font.set_text(s, 0.0, flags=flags)\n",
      "C:\\Users\\lsl\\anaconda3\\envs\\venv\\lib\\site-packages\\matplotlib\\backends\\backend_agg.py:214: RuntimeWarning: Glyph 45908 missing from current font.\n",
      "  font.set_text(s, 0.0, flags=flags)\n",
      "C:\\Users\\lsl\\anaconda3\\envs\\venv\\lib\\site-packages\\matplotlib\\backends\\backend_agg.py:214: RuntimeWarning: Glyph 53076 missing from current font.\n",
      "  font.set_text(s, 0.0, flags=flags)\n",
      "C:\\Users\\lsl\\anaconda3\\envs\\venv\\lib\\site-packages\\matplotlib\\backends\\backend_agg.py:214: RuntimeWarning: Glyph 46300 missing from current font.\n",
      "  font.set_text(s, 0.0, flags=flags)\n",
      "C:\\Users\\lsl\\anaconda3\\envs\\venv\\lib\\site-packages\\matplotlib\\backends\\backend_agg.py:214: RuntimeWarning: Glyph 49345 missing from current font.\n",
      "  font.set_text(s, 0.0, flags=flags)\n",
      "C:\\Users\\lsl\\anaconda3\\envs\\venv\\lib\\site-packages\\matplotlib\\backends\\backend_agg.py:214: RuntimeWarning: Glyph 54408 missing from current font.\n",
      "  font.set_text(s, 0.0, flags=flags)\n",
      "C:\\Users\\lsl\\anaconda3\\envs\\venv\\lib\\site-packages\\matplotlib\\backends\\backend_agg.py:183: RuntimeWarning: Glyph 45432 missing from current font.\n",
      "  font.set_text(s, 0, flags=flags)\n",
      "C:\\Users\\lsl\\anaconda3\\envs\\venv\\lib\\site-packages\\matplotlib\\backends\\backend_agg.py:183: RuntimeWarning: Glyph 52636 missing from current font.\n",
      "  font.set_text(s, 0, flags=flags)\n",
      "C:\\Users\\lsl\\anaconda3\\envs\\venv\\lib\\site-packages\\matplotlib\\backends\\backend_agg.py:183: RuntimeWarning: Glyph 48516 missing from current font.\n",
      "  font.set_text(s, 0, flags=flags)\n",
      "C:\\Users\\lsl\\anaconda3\\envs\\venv\\lib\\site-packages\\matplotlib\\backends\\backend_agg.py:183: RuntimeWarning: Glyph 47560 missing from current font.\n",
      "  font.set_text(s, 0, flags=flags)\n",
      "C:\\Users\\lsl\\anaconda3\\envs\\venv\\lib\\site-packages\\matplotlib\\backends\\backend_agg.py:183: RuntimeWarning: Glyph 45908 missing from current font.\n",
      "  font.set_text(s, 0, flags=flags)\n",
      "C:\\Users\\lsl\\anaconda3\\envs\\venv\\lib\\site-packages\\matplotlib\\backends\\backend_agg.py:183: RuntimeWarning: Glyph 53076 missing from current font.\n",
      "  font.set_text(s, 0, flags=flags)\n",
      "C:\\Users\\lsl\\anaconda3\\envs\\venv\\lib\\site-packages\\matplotlib\\backends\\backend_agg.py:183: RuntimeWarning: Glyph 46300 missing from current font.\n",
      "  font.set_text(s, 0, flags=flags)\n",
      "C:\\Users\\lsl\\anaconda3\\envs\\venv\\lib\\site-packages\\matplotlib\\backends\\backend_agg.py:183: RuntimeWarning: Glyph 49345 missing from current font.\n",
      "  font.set_text(s, 0, flags=flags)\n",
      "C:\\Users\\lsl\\anaconda3\\envs\\venv\\lib\\site-packages\\matplotlib\\backends\\backend_agg.py:183: RuntimeWarning: Glyph 54408 missing from current font.\n",
      "  font.set_text(s, 0, flags=flags)\n"
     ]
    },
    {
     "data": {
      "image/png": "[encoded data removed]",
      "text/plain": [
       "<Figure size 720x288 with 1 Axes>"
      ]
     },
     "metadata": {
      "needs_background": "light"
     },
     "output_type": "display_data"
    }
   ],
   "source": [
    "# 이상치 확인\n",
    "df_raw.boxplot(figsize=(10,4))"
   ]
  },
  {
   "cell_type": "markdown",
   "metadata": {},
   "source": [
    "# 3. 컬럼 별 정리"
   ]
  },
  {
   "cell_type": "markdown",
   "metadata": {},
   "source": [
    "### '판매단가'"
   ]
  },
  {
   "cell_type": "code",
   "execution_count": 10,
   "metadata": {},
   "outputs": [
    {
     "data": {
      "text/plain": [
       "0         39900\n",
       "1         39900\n",
       "2         39900\n",
       "3         39900\n",
       "4         39900\n",
       "          ...  \n",
       "38299    148000\n",
       "38300    178000\n",
       "38301    168000\n",
       "38302    158000\n",
       "38303    148000\n",
       "Name: 판매단가, Length: 37372, dtype: int32"
      ]
     },
     "execution_count": 10,
     "metadata": {},
     "output_type": "execute_result"
    }
   ],
   "source": [
    "df_raw['판매단가']= df_raw['판매단가'].replace(',','', regex=True).astype(int)\n",
    "df_raw['판매단가']"
   ]
  },
  {
   "cell_type": "markdown",
   "metadata": {},
   "source": [
    "### '취급액'"
   ]
  },
  {
   "cell_type": "code",
   "execution_count": 11,
   "metadata": {},
   "outputs": [
    {
     "data": {
      "text/plain": [
       "0          2099000\n",
       "1          4371000\n",
       "2          3262000\n",
       "3          6955000\n",
       "4          6672000\n",
       "           ...    \n",
       "38299     10157000\n",
       "38300     50929000\n",
       "38301    104392000\n",
       "38302     13765000\n",
       "38303     46608000\n",
       "Name:  취급액 , Length: 37372, dtype: int32"
      ]
     },
     "execution_count": 11,
     "metadata": {},
     "output_type": "execute_result"
    }
   ],
   "source": [
    "df_raw[' 취급액 ']= df_raw[' 취급액 '].replace(',','', regex=True).astype(int)\n",
    "df_raw[' 취급액 ']"
   ]
  },
  {
   "cell_type": "markdown",
   "metadata": {},
   "source": [
    "### '방송일시'"
   ]
  },
  {
   "cell_type": "code",
   "execution_count": 12,
   "metadata": {},
   "outputs": [
    {
     "data": {
      "text/html": [
       "<div>\n",
       "<style scoped>\n",
       "    .dataframe tbody tr th:only-of-type {\n",
       "        vertical-align: middle;\n",
       "    }\n",
       "\n",
       "    .dataframe tbody tr th {\n",
       "        vertical-align: top;\n",
       "    }\n",
       "\n",
       "    .dataframe thead th {\n",
       "        text-align: right;\n",
       "    }\n",
       "</style>\n",
       "<table border=\"1\" class=\"dataframe\">\n",
       "  <thead>\n",
       "    <tr style=\"text-align: right;\">\n",
       "      <th></th>\n",
       "      <th>방송일시</th>\n",
       "      <th>노출(분)</th>\n",
       "      <th>마더코드</th>\n",
       "      <th>상품코드</th>\n",
       "      <th>상품명</th>\n",
       "      <th>상품군</th>\n",
       "      <th>판매단가</th>\n",
       "      <th>취급액</th>\n",
       "      <th>년</th>\n",
       "      <th>월</th>\n",
       "      <th>일_시간</th>\n",
       "    </tr>\n",
       "  </thead>\n",
       "  <tbody>\n",
       "    <tr>\n",
       "      <th>0</th>\n",
       "      <td>2019-01-01 6:00</td>\n",
       "      <td>20</td>\n",
       "      <td>100346</td>\n",
       "      <td>201072</td>\n",
       "      <td>테이트 남성 셀린니트3종</td>\n",
       "      <td>의류</td>\n",
       "      <td>39900</td>\n",
       "      <td>2099000</td>\n",
       "      <td>2019</td>\n",
       "      <td>01</td>\n",
       "      <td>01 6:00</td>\n",
       "    </tr>\n",
       "    <tr>\n",
       "      <th>1</th>\n",
       "      <td>2019-01-01 6:00</td>\n",
       "      <td>20</td>\n",
       "      <td>100346</td>\n",
       "      <td>201079</td>\n",
       "      <td>테이트 여성 셀린니트3종</td>\n",
       "      <td>의류</td>\n",
       "      <td>39900</td>\n",
       "      <td>4371000</td>\n",
       "      <td>2019</td>\n",
       "      <td>01</td>\n",
       "      <td>01 6:00</td>\n",
       "    </tr>\n",
       "    <tr>\n",
       "      <th>2</th>\n",
       "      <td>2019-01-01 6:20</td>\n",
       "      <td>20</td>\n",
       "      <td>100346</td>\n",
       "      <td>201072</td>\n",
       "      <td>테이트 남성 셀린니트3종</td>\n",
       "      <td>의류</td>\n",
       "      <td>39900</td>\n",
       "      <td>3262000</td>\n",
       "      <td>2019</td>\n",
       "      <td>01</td>\n",
       "      <td>01 6:20</td>\n",
       "    </tr>\n",
       "    <tr>\n",
       "      <th>3</th>\n",
       "      <td>2019-01-01 6:20</td>\n",
       "      <td>20</td>\n",
       "      <td>100346</td>\n",
       "      <td>201079</td>\n",
       "      <td>테이트 여성 셀린니트3종</td>\n",
       "      <td>의류</td>\n",
       "      <td>39900</td>\n",
       "      <td>6955000</td>\n",
       "      <td>2019</td>\n",
       "      <td>01</td>\n",
       "      <td>01 6:20</td>\n",
       "    </tr>\n",
       "    <tr>\n",
       "      <th>4</th>\n",
       "      <td>2019-01-01 6:40</td>\n",
       "      <td>20</td>\n",
       "      <td>100346</td>\n",
       "      <td>201072</td>\n",
       "      <td>테이트 남성 셀린니트3종</td>\n",
       "      <td>의류</td>\n",
       "      <td>39900</td>\n",
       "      <td>6672000</td>\n",
       "      <td>2019</td>\n",
       "      <td>01</td>\n",
       "      <td>01 6:40</td>\n",
       "    </tr>\n",
       "  </tbody>\n",
       "</table>\n",
       "</div>"
      ],
      "text/plain": [
       "              방송일시  노출(분)    마더코드    상품코드            상품명 상품군   판매단가     취급액   \\\n",
       "0  2019-01-01 6:00     20  100346  201072  테이트 남성 셀린니트3종  의류  39900  2099000   \n",
       "1  2019-01-01 6:00     20  100346  201079  테이트 여성 셀린니트3종  의류  39900  4371000   \n",
       "2  2019-01-01 6:20     20  100346  201072  테이트 남성 셀린니트3종  의류  39900  3262000   \n",
       "3  2019-01-01 6:20     20  100346  201079  테이트 여성 셀린니트3종  의류  39900  6955000   \n",
       "4  2019-01-01 6:40     20  100346  201072  테이트 남성 셀린니트3종  의류  39900  6672000   \n",
       "\n",
       "      년   월     일_시간  \n",
       "0  2019  01  01 6:00  \n",
       "1  2019  01  01 6:00  \n",
       "2  2019  01  01 6:20  \n",
       "3  2019  01  01 6:20  \n",
       "4  2019  01  01 6:40  "
      ]
     },
     "execution_count": 12,
     "metadata": {},
     "output_type": "execute_result"
    }
   ],
   "source": [
    "year_month_day = df_raw[\"방송일시\"].str.split(\"-\", n=2, expand=True)\n",
    "df_raw['년'] = year_month_day[0].to_frame()\n",
    "df_raw['월'] = year_month_day[1].to_frame()\n",
    "df_raw['일_시간'] = year_month_day[2].to_frame()\n",
    "df_raw.head()"
   ]
  },
  {
   "cell_type": "code",
   "execution_count": 13,
   "metadata": {},
   "outputs": [
    {
     "data": {
      "text/html": [
       "<div>\n",
       "<style scoped>\n",
       "    .dataframe tbody tr th:only-of-type {\n",
       "        vertical-align: middle;\n",
       "    }\n",
       "\n",
       "    .dataframe tbody tr th {\n",
       "        vertical-align: top;\n",
       "    }\n",
       "\n",
       "    .dataframe thead th {\n",
       "        text-align: right;\n",
       "    }\n",
       "</style>\n",
       "<table border=\"1\" class=\"dataframe\">\n",
       "  <thead>\n",
       "    <tr style=\"text-align: right;\">\n",
       "      <th></th>\n",
       "      <th>노출(분)</th>\n",
       "      <th>마더코드</th>\n",
       "      <th>상품코드</th>\n",
       "      <th>상품명</th>\n",
       "      <th>상품군</th>\n",
       "      <th>판매단가</th>\n",
       "      <th>취급액</th>\n",
       "      <th>년</th>\n",
       "      <th>월</th>\n",
       "      <th>일</th>\n",
       "      <th>시간</th>\n",
       "    </tr>\n",
       "  </thead>\n",
       "  <tbody>\n",
       "    <tr>\n",
       "      <th>0</th>\n",
       "      <td>20</td>\n",
       "      <td>100346</td>\n",
       "      <td>201072</td>\n",
       "      <td>테이트 남성 셀린니트3종</td>\n",
       "      <td>의류</td>\n",
       "      <td>39900</td>\n",
       "      <td>2099000</td>\n",
       "      <td>2019</td>\n",
       "      <td>01</td>\n",
       "      <td>01</td>\n",
       "      <td>6:00</td>\n",
       "    </tr>\n",
       "    <tr>\n",
       "      <th>1</th>\n",
       "      <td>20</td>\n",
       "      <td>100346</td>\n",
       "      <td>201079</td>\n",
       "      <td>테이트 여성 셀린니트3종</td>\n",
       "      <td>의류</td>\n",
       "      <td>39900</td>\n",
       "      <td>4371000</td>\n",
       "      <td>2019</td>\n",
       "      <td>01</td>\n",
       "      <td>01</td>\n",
       "      <td>6:00</td>\n",
       "    </tr>\n",
       "    <tr>\n",
       "      <th>2</th>\n",
       "      <td>20</td>\n",
       "      <td>100346</td>\n",
       "      <td>201072</td>\n",
       "      <td>테이트 남성 셀린니트3종</td>\n",
       "      <td>의류</td>\n",
       "      <td>39900</td>\n",
       "      <td>3262000</td>\n",
       "      <td>2019</td>\n",
       "      <td>01</td>\n",
       "      <td>01</td>\n",
       "      <td>6:20</td>\n",
       "    </tr>\n",
       "    <tr>\n",
       "      <th>3</th>\n",
       "      <td>20</td>\n",
       "      <td>100346</td>\n",
       "      <td>201079</td>\n",
       "      <td>테이트 여성 셀린니트3종</td>\n",
       "      <td>의류</td>\n",
       "      <td>39900</td>\n",
       "      <td>6955000</td>\n",
       "      <td>2019</td>\n",
       "      <td>01</td>\n",
       "      <td>01</td>\n",
       "      <td>6:20</td>\n",
       "    </tr>\n",
       "    <tr>\n",
       "      <th>4</th>\n",
       "      <td>20</td>\n",
       "      <td>100346</td>\n",
       "      <td>201072</td>\n",
       "      <td>테이트 남성 셀린니트3종</td>\n",
       "      <td>의류</td>\n",
       "      <td>39900</td>\n",
       "      <td>6672000</td>\n",
       "      <td>2019</td>\n",
       "      <td>01</td>\n",
       "      <td>01</td>\n",
       "      <td>6:40</td>\n",
       "    </tr>\n",
       "  </tbody>\n",
       "</table>\n",
       "</div>"
      ],
      "text/plain": [
       "   노출(분)    마더코드    상품코드            상품명 상품군   판매단가     취급액      년   월   일  \\\n",
       "0     20  100346  201072  테이트 남성 셀린니트3종  의류  39900  2099000  2019  01  01   \n",
       "1     20  100346  201079  테이트 여성 셀린니트3종  의류  39900  4371000  2019  01  01   \n",
       "2     20  100346  201072  테이트 남성 셀린니트3종  의류  39900  3262000  2019  01  01   \n",
       "3     20  100346  201079  테이트 여성 셀린니트3종  의류  39900  6955000  2019  01  01   \n",
       "4     20  100346  201072  테이트 남성 셀린니트3종  의류  39900  6672000  2019  01  01   \n",
       "\n",
       "     시간  \n",
       "0  6:00  \n",
       "1  6:00  \n",
       "2  6:20  \n",
       "3  6:20  \n",
       "4  6:40  "
      ]
     },
     "execution_count": 13,
     "metadata": {},
     "output_type": "execute_result"
    }
   ],
   "source": [
    "hour = df_raw[\"일_시간\"].str.split(\" \", n=1, expand=True)\n",
    "df_raw['일'] = hour[0].to_frame()\n",
    "df_raw['시간'] = hour[1].to_frame()\n",
    "\n",
    "df_raw = df_raw.drop(['방송일시', '일_시간'], axis=1)\n",
    "df_raw.head()"
   ]
  },
  {
   "cell_type": "code",
   "execution_count": 14,
   "metadata": {},
   "outputs": [],
   "source": [
    "df_raw = df_raw.drop(['년'], axis=1)"
   ]
  },
  {
   "cell_type": "code",
   "execution_count": 15,
   "metadata": {},
   "outputs": [],
   "source": [
    "df_raw['월']= df_raw['월'].astype(int)\n",
    "df_raw['일']= df_raw['일'].astype(int)"
   ]
  },
  {
   "cell_type": "code",
   "execution_count": 16,
   "metadata": {},
   "outputs": [
    {
     "name": "stdout",
     "output_type": "stream",
     "text": [
      "<class 'pandas.core.frame.DataFrame'>\n",
      "Int64Index: 37372 entries, 0 to 38303\n",
      "Data columns (total 10 columns):\n",
      " #   Column  Non-Null Count  Dtype \n",
      "---  ------  --------------  ----- \n",
      " 0   노출(분)   37372 non-null  int32 \n",
      " 1   마더코드    37372 non-null  int64 \n",
      " 2   상품코드    37372 non-null  int64 \n",
      " 3   상품명     37372 non-null  object\n",
      " 4   상품군     37372 non-null  object\n",
      " 5   판매단가    37372 non-null  int32 \n",
      " 6    취급액    37372 non-null  int32 \n",
      " 7   월       37372 non-null  int32 \n",
      " 8   일       37372 non-null  int32 \n",
      " 9   시간      37372 non-null  object\n",
      "dtypes: int32(5), int64(2), object(3)\n",
      "memory usage: 2.4+ MB\n"
     ]
    }
   ],
   "source": [
    "df_raw.info()"
   ]
  },
  {
   "cell_type": "markdown",
   "metadata": {},
   "source": [
    "### '상품군'"
   ]
  },
  {
   "cell_type": "code",
   "execution_count": 17,
   "metadata": {},
   "outputs": [
    {
     "data": {
      "text/plain": [
       "주방      6604\n",
       "가전      6479\n",
       "의류      4340\n",
       "속옷      3919\n",
       "잡화      3891\n",
       "농수축     3884\n",
       "생활용품    2877\n",
       "가구      2614\n",
       "이미용     1305\n",
       "건강기능     790\n",
       "침구       669\n",
       "Name: 상품군, dtype: int64"
      ]
     },
     "execution_count": 17,
     "metadata": {},
     "output_type": "execute_result"
    }
   ],
   "source": [
    "df_raw['상품군'].value_counts()"
   ]
  },
  {
   "cell_type": "code",
   "execution_count": 18,
   "metadata": {},
   "outputs": [],
   "source": [
    "df_raw['상품군']= df_raw['상품군'].replace('주방','0', regex=True)\n",
    "df_raw['상품군']= df_raw['상품군'].replace('가전','1', regex=True)\n",
    "df_raw['상품군']= df_raw['상품군'].replace('의류','2', regex=True)\n",
    "df_raw['상품군']= df_raw['상품군'].replace('속옷','3', regex=True)\n",
    "df_raw['상품군']= df_raw['상품군'].replace('잡화','4', regex=True)\n",
    "df_raw['상품군']= df_raw['상품군'].replace('농수축','5', regex=True)\n",
    "df_raw['상품군']= df_raw['상품군'].replace('생활용품','6', regex=True)\n",
    "df_raw['상품군']= df_raw['상품군'].replace('가구','7', regex=True)\n",
    "df_raw['상품군']= df_raw['상품군'].replace('이미용','8', regex=True)\n",
    "df_raw['상품군']= df_raw['상품군'].replace('건강기능','9', regex=True)\n",
    "df_raw['상품군']= df_raw['상품군'].replace('침구','10', regex=True)\n",
    "df_raw['상품군'] = df_raw['상품군'].astype(int)"
   ]
  },
  {
   "cell_type": "code",
   "execution_count": 19,
   "metadata": {},
   "outputs": [
    {
     "data": {
      "text/html": [
       "<div>\n",
       "<style scoped>\n",
       "    .dataframe tbody tr th:only-of-type {\n",
       "        vertical-align: middle;\n",
       "    }\n",
       "\n",
       "    .dataframe tbody tr th {\n",
       "        vertical-align: top;\n",
       "    }\n",
       "\n",
       "    .dataframe thead th {\n",
       "        text-align: right;\n",
       "    }\n",
       "</style>\n",
       "<table border=\"1\" class=\"dataframe\">\n",
       "  <thead>\n",
       "    <tr style=\"text-align: right;\">\n",
       "      <th></th>\n",
       "      <th>노출(분)</th>\n",
       "      <th>마더코드</th>\n",
       "      <th>상품코드</th>\n",
       "      <th>상품명</th>\n",
       "      <th>상품군</th>\n",
       "      <th>판매단가</th>\n",
       "      <th>취급액</th>\n",
       "      <th>월</th>\n",
       "      <th>일</th>\n",
       "      <th>시간</th>\n",
       "    </tr>\n",
       "  </thead>\n",
       "  <tbody>\n",
       "    <tr>\n",
       "      <th>0</th>\n",
       "      <td>20</td>\n",
       "      <td>100346</td>\n",
       "      <td>201072</td>\n",
       "      <td>테이트 남성 셀린니트3종</td>\n",
       "      <td>2</td>\n",
       "      <td>39900</td>\n",
       "      <td>2099000</td>\n",
       "      <td>1</td>\n",
       "      <td>1</td>\n",
       "      <td>6:00</td>\n",
       "    </tr>\n",
       "    <tr>\n",
       "      <th>1</th>\n",
       "      <td>20</td>\n",
       "      <td>100346</td>\n",
       "      <td>201079</td>\n",
       "      <td>테이트 여성 셀린니트3종</td>\n",
       "      <td>2</td>\n",
       "      <td>39900</td>\n",
       "      <td>4371000</td>\n",
       "      <td>1</td>\n",
       "      <td>1</td>\n",
       "      <td>6:00</td>\n",
       "    </tr>\n",
       "    <tr>\n",
       "      <th>2</th>\n",
       "      <td>20</td>\n",
       "      <td>100346</td>\n",
       "      <td>201072</td>\n",
       "      <td>테이트 남성 셀린니트3종</td>\n",
       "      <td>2</td>\n",
       "      <td>39900</td>\n",
       "      <td>3262000</td>\n",
       "      <td>1</td>\n",
       "      <td>1</td>\n",
       "      <td>6:20</td>\n",
       "    </tr>\n",
       "    <tr>\n",
       "      <th>3</th>\n",
       "      <td>20</td>\n",
       "      <td>100346</td>\n",
       "      <td>201079</td>\n",
       "      <td>테이트 여성 셀린니트3종</td>\n",
       "      <td>2</td>\n",
       "      <td>39900</td>\n",
       "      <td>6955000</td>\n",
       "      <td>1</td>\n",
       "      <td>1</td>\n",
       "      <td>6:20</td>\n",
       "    </tr>\n",
       "    <tr>\n",
       "      <th>4</th>\n",
       "      <td>20</td>\n",
       "      <td>100346</td>\n",
       "      <td>201072</td>\n",
       "      <td>테이트 남성 셀린니트3종</td>\n",
       "      <td>2</td>\n",
       "      <td>39900</td>\n",
       "      <td>6672000</td>\n",
       "      <td>1</td>\n",
       "      <td>1</td>\n",
       "      <td>6:40</td>\n",
       "    </tr>\n",
       "  </tbody>\n",
       "</table>\n",
       "</div>"
      ],
      "text/plain": [
       "   노출(분)    마더코드    상품코드            상품명  상품군   판매단가     취급액   월  일    시간\n",
       "0     20  100346  201072  테이트 남성 셀린니트3종    2  39900  2099000  1  1  6:00\n",
       "1     20  100346  201079  테이트 여성 셀린니트3종    2  39900  4371000  1  1  6:00\n",
       "2     20  100346  201072  테이트 남성 셀린니트3종    2  39900  3262000  1  1  6:20\n",
       "3     20  100346  201079  테이트 여성 셀린니트3종    2  39900  6955000  1  1  6:20\n",
       "4     20  100346  201072  테이트 남성 셀린니트3종    2  39900  6672000  1  1  6:40"
      ]
     },
     "execution_count": 19,
     "metadata": {},
     "output_type": "execute_result"
    }
   ],
   "source": [
    "df_raw.head()"
   ]
  },
  {
   "cell_type": "markdown",
   "metadata": {},
   "source": [
    "### '상품명'"
   ]
  },
  {
   "cell_type": "markdown",
   "metadata": {},
   "source": [
    "우선 삭제"
   ]
  },
  {
   "cell_type": "code",
   "execution_count": 20,
   "metadata": {},
   "outputs": [],
   "source": [
    "df_raw = df_raw.drop(['상품명', '시간'], axis=1)"
   ]
  },
  {
   "cell_type": "markdown",
   "metadata": {},
   "source": [
    "### '시간'"
   ]
  },
  {
   "cell_type": "markdown",
   "metadata": {},
   "source": [
    "우선 삭제"
   ]
  },
  {
   "cell_type": "code",
   "execution_count": 21,
   "metadata": {},
   "outputs": [],
   "source": [
    "df_raw = df_raw.drop(['월','일'], axis=1)"
   ]
  },
  {
   "cell_type": "code",
   "execution_count": 22,
   "metadata": {},
   "outputs": [
    {
     "data": {
      "text/html": [
       "<div>\n",
       "<style scoped>\n",
       "    .dataframe tbody tr th:only-of-type {\n",
       "        vertical-align: middle;\n",
       "    }\n",
       "\n",
       "    .dataframe tbody tr th {\n",
       "        vertical-align: top;\n",
       "    }\n",
       "\n",
       "    .dataframe thead th {\n",
       "        text-align: right;\n",
       "    }\n",
       "</style>\n",
       "<table border=\"1\" class=\"dataframe\">\n",
       "  <thead>\n",
       "    <tr style=\"text-align: right;\">\n",
       "      <th></th>\n",
       "      <th>노출(분)</th>\n",
       "      <th>마더코드</th>\n",
       "      <th>상품코드</th>\n",
       "      <th>상품군</th>\n",
       "      <th>판매단가</th>\n",
       "      <th>취급액</th>\n",
       "    </tr>\n",
       "  </thead>\n",
       "  <tbody>\n",
       "    <tr>\n",
       "      <th>0</th>\n",
       "      <td>20</td>\n",
       "      <td>100346</td>\n",
       "      <td>201072</td>\n",
       "      <td>2</td>\n",
       "      <td>39900</td>\n",
       "      <td>2099000</td>\n",
       "    </tr>\n",
       "    <tr>\n",
       "      <th>1</th>\n",
       "      <td>20</td>\n",
       "      <td>100346</td>\n",
       "      <td>201079</td>\n",
       "      <td>2</td>\n",
       "      <td>39900</td>\n",
       "      <td>4371000</td>\n",
       "    </tr>\n",
       "    <tr>\n",
       "      <th>2</th>\n",
       "      <td>20</td>\n",
       "      <td>100346</td>\n",
       "      <td>201072</td>\n",
       "      <td>2</td>\n",
       "      <td>39900</td>\n",
       "      <td>3262000</td>\n",
       "    </tr>\n",
       "    <tr>\n",
       "      <th>3</th>\n",
       "      <td>20</td>\n",
       "      <td>100346</td>\n",
       "      <td>201079</td>\n",
       "      <td>2</td>\n",
       "      <td>39900</td>\n",
       "      <td>6955000</td>\n",
       "    </tr>\n",
       "    <tr>\n",
       "      <th>4</th>\n",
       "      <td>20</td>\n",
       "      <td>100346</td>\n",
       "      <td>201072</td>\n",
       "      <td>2</td>\n",
       "      <td>39900</td>\n",
       "      <td>6672000</td>\n",
       "    </tr>\n",
       "  </tbody>\n",
       "</table>\n",
       "</div>"
      ],
      "text/plain": [
       "   노출(분)    마더코드    상품코드  상품군   판매단가     취급액 \n",
       "0     20  100346  201072    2  39900  2099000\n",
       "1     20  100346  201079    2  39900  4371000\n",
       "2     20  100346  201072    2  39900  3262000\n",
       "3     20  100346  201079    2  39900  6955000\n",
       "4     20  100346  201072    2  39900  6672000"
      ]
     },
     "execution_count": 22,
     "metadata": {},
     "output_type": "execute_result"
    }
   ],
   "source": [
    "df = df_raw\n",
    "df.head()"
   ]
  },
  {
   "cell_type": "markdown",
   "metadata": {},
   "source": [
    "# 4. scale 변환"
   ]
  },
  {
   "cell_type": "markdown",
   "metadata": {},
   "source": [
    "#### 1) scale 변환 : 평균, 표준편차 기준"
   ]
  },
  {
   "cell_type": "code",
   "execution_count": 23,
   "metadata": {},
   "outputs": [],
   "source": [
    "df_y = df[' 취급액 ']\n",
    "df_x = df.drop(' 취급액 ', axis=1, inplace=False)"
   ]
  },
  {
   "cell_type": "code",
   "execution_count": 24,
   "metadata": {},
   "outputs": [
    {
     "data": {
      "text/html": [
       "<div>\n",
       "<style scoped>\n",
       "    .dataframe tbody tr th:only-of-type {\n",
       "        vertical-align: middle;\n",
       "    }\n",
       "\n",
       "    .dataframe tbody tr th {\n",
       "        vertical-align: top;\n",
       "    }\n",
       "\n",
       "    .dataframe thead th {\n",
       "        text-align: right;\n",
       "    }\n",
       "</style>\n",
       "<table border=\"1\" class=\"dataframe\">\n",
       "  <thead>\n",
       "    <tr style=\"text-align: right;\">\n",
       "      <th></th>\n",
       "      <th>노출(분)</th>\n",
       "      <th>마더코드</th>\n",
       "      <th>상품코드</th>\n",
       "      <th>상품군</th>\n",
       "      <th>판매단가</th>\n",
       "    </tr>\n",
       "  </thead>\n",
       "  <tbody>\n",
       "    <tr>\n",
       "      <th>0</th>\n",
       "      <td>-0.122458</td>\n",
       "      <td>-0.173042</td>\n",
       "      <td>-0.189586</td>\n",
       "      <td>-0.468996</td>\n",
       "      <td>-0.585286</td>\n",
       "    </tr>\n",
       "    <tr>\n",
       "      <th>1</th>\n",
       "      <td>-0.122458</td>\n",
       "      <td>-0.173042</td>\n",
       "      <td>-0.180098</td>\n",
       "      <td>-0.468996</td>\n",
       "      <td>-0.585286</td>\n",
       "    </tr>\n",
       "    <tr>\n",
       "      <th>2</th>\n",
       "      <td>-0.122458</td>\n",
       "      <td>-0.173042</td>\n",
       "      <td>-0.189586</td>\n",
       "      <td>-0.468996</td>\n",
       "      <td>-0.585286</td>\n",
       "    </tr>\n",
       "    <tr>\n",
       "      <th>3</th>\n",
       "      <td>-0.122458</td>\n",
       "      <td>-0.173042</td>\n",
       "      <td>-0.180098</td>\n",
       "      <td>-0.468996</td>\n",
       "      <td>-0.585286</td>\n",
       "    </tr>\n",
       "    <tr>\n",
       "      <th>4</th>\n",
       "      <td>-0.122458</td>\n",
       "      <td>-0.173042</td>\n",
       "      <td>-0.189586</td>\n",
       "      <td>-0.468996</td>\n",
       "      <td>-0.585286</td>\n",
       "    </tr>\n",
       "  </tbody>\n",
       "</table>\n",
       "</div>"
      ],
      "text/plain": [
       "      노출(분)      마더코드      상품코드       상품군      판매단가\n",
       "0 -0.122458 -0.173042 -0.189586 -0.468996 -0.585286\n",
       "1 -0.122458 -0.173042 -0.180098 -0.468996 -0.585286\n",
       "2 -0.122458 -0.173042 -0.189586 -0.468996 -0.585286\n",
       "3 -0.122458 -0.173042 -0.180098 -0.468996 -0.585286\n",
       "4 -0.122458 -0.173042 -0.189586 -0.468996 -0.585286"
      ]
     },
     "execution_count": 24,
     "metadata": {},
     "output_type": "execute_result"
    }
   ],
   "source": [
    "df_scale_std=scale(df_x)\n",
    "df_scale_std=pd.DataFrame(df_scale_std, columns=df_x.columns)\n",
    "df_scale_std.head()"
   ]
  },
  {
   "cell_type": "code",
   "execution_count": 25,
   "metadata": {},
   "outputs": [
    {
     "data": {
      "text/html": [
       "<div>\n",
       "<style scoped>\n",
       "    .dataframe tbody tr th:only-of-type {\n",
       "        vertical-align: middle;\n",
       "    }\n",
       "\n",
       "    .dataframe tbody tr th {\n",
       "        vertical-align: top;\n",
       "    }\n",
       "\n",
       "    .dataframe thead th {\n",
       "        text-align: right;\n",
       "    }\n",
       "</style>\n",
       "<table border=\"1\" class=\"dataframe\">\n",
       "  <thead>\n",
       "    <tr style=\"text-align: right;\">\n",
       "      <th></th>\n",
       "      <th>노출(분)</th>\n",
       "      <th>마더코드</th>\n",
       "      <th>상품코드</th>\n",
       "      <th>상품군</th>\n",
       "      <th>판매단가</th>\n",
       "    </tr>\n",
       "  </thead>\n",
       "  <tbody>\n",
       "    <tr>\n",
       "      <th>count</th>\n",
       "      <td>37372.000</td>\n",
       "      <td>37372.000</td>\n",
       "      <td>37372.000</td>\n",
       "      <td>37372.000</td>\n",
       "      <td>37372.000</td>\n",
       "    </tr>\n",
       "    <tr>\n",
       "      <th>mean</th>\n",
       "      <td>0.000</td>\n",
       "      <td>-0.000</td>\n",
       "      <td>-0.000</td>\n",
       "      <td>0.000</td>\n",
       "      <td>0.000</td>\n",
       "    </tr>\n",
       "    <tr>\n",
       "      <th>std</th>\n",
       "      <td>1.000</td>\n",
       "      <td>1.000</td>\n",
       "      <td>1.000</td>\n",
       "      <td>1.000</td>\n",
       "      <td>1.000</td>\n",
       "    </tr>\n",
       "    <tr>\n",
       "      <th>min</th>\n",
       "      <td>-5.898</td>\n",
       "      <td>-1.549</td>\n",
       "      <td>-1.643</td>\n",
       "      <td>-1.216</td>\n",
       "      <td>-0.622</td>\n",
       "    </tr>\n",
       "    <tr>\n",
       "      <th>25%</th>\n",
       "      <td>-0.122</td>\n",
       "      <td>-0.941</td>\n",
       "      <td>-0.912</td>\n",
       "      <td>-0.842</td>\n",
       "      <td>-0.559</td>\n",
       "    </tr>\n",
       "    <tr>\n",
       "      <th>50%</th>\n",
       "      <td>-0.122</td>\n",
       "      <td>-0.173</td>\n",
       "      <td>-0.070</td>\n",
       "      <td>-0.096</td>\n",
       "      <td>-0.490</td>\n",
       "    </tr>\n",
       "    <tr>\n",
       "      <th>75%</th>\n",
       "      <td>-0.122</td>\n",
       "      <td>0.825</td>\n",
       "      <td>0.882</td>\n",
       "      <td>0.651</td>\n",
       "      <td>0.056</td>\n",
       "    </tr>\n",
       "    <tr>\n",
       "      <th>max</th>\n",
       "      <td>6.294</td>\n",
       "      <td>1.828</td>\n",
       "      <td>1.763</td>\n",
       "      <td>2.517</td>\n",
       "      <td>10.202</td>\n",
       "    </tr>\n",
       "  </tbody>\n",
       "</table>\n",
       "</div>"
      ],
      "text/plain": [
       "           노출(분)       마더코드       상품코드        상품군       판매단가\n",
       "count  37372.000  37372.000  37372.000  37372.000  37372.000\n",
       "mean       0.000     -0.000     -0.000      0.000      0.000\n",
       "std        1.000      1.000      1.000      1.000      1.000\n",
       "min       -5.898     -1.549     -1.643     -1.216     -0.622\n",
       "25%       -0.122     -0.941     -0.912     -0.842     -0.559\n",
       "50%       -0.122     -0.173     -0.070     -0.096     -0.490\n",
       "75%       -0.122      0.825      0.882      0.651      0.056\n",
       "max        6.294      1.828      1.763      2.517     10.202"
      ]
     },
     "execution_count": 25,
     "metadata": {},
     "output_type": "execute_result"
    }
   ],
   "source": [
    "#scale 변환결과 확인: 요약통계량:pandas.DataFrame.describe()\n",
    "df_scale_desc = df_scale_std.describe()\n",
    "df_scale_desc.round(3)"
   ]
  },
  {
   "cell_type": "markdown",
   "metadata": {},
   "source": [
    "#### 2) scale 변환 : 최소, 최대값 기준"
   ]
  },
  {
   "cell_type": "code",
   "execution_count": 26,
   "metadata": {},
   "outputs": [
    {
     "data": {
      "text/html": [
       "<div>\n",
       "<style scoped>\n",
       "    .dataframe tbody tr th:only-of-type {\n",
       "        vertical-align: middle;\n",
       "    }\n",
       "\n",
       "    .dataframe tbody tr th {\n",
       "        vertical-align: top;\n",
       "    }\n",
       "\n",
       "    .dataframe thead th {\n",
       "        text-align: right;\n",
       "    }\n",
       "</style>\n",
       "<table border=\"1\" class=\"dataframe\">\n",
       "  <thead>\n",
       "    <tr style=\"text-align: right;\">\n",
       "      <th></th>\n",
       "      <th>노출(분)</th>\n",
       "      <th>마더코드</th>\n",
       "      <th>상품코드</th>\n",
       "      <th>상품군</th>\n",
       "      <th>판매단가</th>\n",
       "      <th>취급액</th>\n",
       "    </tr>\n",
       "  </thead>\n",
       "  <tbody>\n",
       "    <tr>\n",
       "      <th>0</th>\n",
       "      <td>0.474</td>\n",
       "      <td>0.408</td>\n",
       "      <td>0.427</td>\n",
       "      <td>0.2</td>\n",
       "      <td>0.003</td>\n",
       "      <td>0.006</td>\n",
       "    </tr>\n",
       "    <tr>\n",
       "      <th>1</th>\n",
       "      <td>0.474</td>\n",
       "      <td>0.408</td>\n",
       "      <td>0.429</td>\n",
       "      <td>0.2</td>\n",
       "      <td>0.003</td>\n",
       "      <td>0.013</td>\n",
       "    </tr>\n",
       "    <tr>\n",
       "      <th>2</th>\n",
       "      <td>0.474</td>\n",
       "      <td>0.408</td>\n",
       "      <td>0.427</td>\n",
       "      <td>0.2</td>\n",
       "      <td>0.003</td>\n",
       "      <td>0.010</td>\n",
       "    </tr>\n",
       "    <tr>\n",
       "      <th>3</th>\n",
       "      <td>0.474</td>\n",
       "      <td>0.408</td>\n",
       "      <td>0.429</td>\n",
       "      <td>0.2</td>\n",
       "      <td>0.003</td>\n",
       "      <td>0.021</td>\n",
       "    </tr>\n",
       "    <tr>\n",
       "      <th>4</th>\n",
       "      <td>0.474</td>\n",
       "      <td>0.408</td>\n",
       "      <td>0.427</td>\n",
       "      <td>0.2</td>\n",
       "      <td>0.003</td>\n",
       "      <td>0.021</td>\n",
       "    </tr>\n",
       "  </tbody>\n",
       "</table>\n",
       "</div>"
      ],
      "text/plain": [
       "   노출(분)   마더코드   상품코드  상품군   판매단가   취급액 \n",
       "0  0.474  0.408  0.427  0.2  0.003  0.006\n",
       "1  0.474  0.408  0.429  0.2  0.003  0.013\n",
       "2  0.474  0.408  0.427  0.2  0.003  0.010\n",
       "3  0.474  0.408  0.429  0.2  0.003  0.021\n",
       "4  0.474  0.408  0.427  0.2  0.003  0.021"
      ]
     },
     "execution_count": 26,
     "metadata": {},
     "output_type": "execute_result"
    }
   ],
   "source": [
    "df_scale_minmax = minmax_scale(df_raw)\n",
    "df_scale_minmax = pd.DataFrame(df_scale_minmax, columns = df_raw.columns)\n",
    "df_scale_minmax.head().round(3)"
   ]
  },
  {
   "cell_type": "code",
   "execution_count": 27,
   "metadata": {},
   "outputs": [
    {
     "data": {
      "text/html": [
       "<div>\n",
       "<style scoped>\n",
       "    .dataframe tbody tr th:only-of-type {\n",
       "        vertical-align: middle;\n",
       "    }\n",
       "\n",
       "    .dataframe tbody tr th {\n",
       "        vertical-align: top;\n",
       "    }\n",
       "\n",
       "    .dataframe thead th {\n",
       "        text-align: right;\n",
       "    }\n",
       "</style>\n",
       "<table border=\"1\" class=\"dataframe\">\n",
       "  <thead>\n",
       "    <tr style=\"text-align: right;\">\n",
       "      <th></th>\n",
       "      <th>노출(분)</th>\n",
       "      <th>마더코드</th>\n",
       "      <th>상품코드</th>\n",
       "      <th>상품군</th>\n",
       "      <th>판매단가</th>\n",
       "      <th>취급액</th>\n",
       "    </tr>\n",
       "  </thead>\n",
       "  <tbody>\n",
       "    <tr>\n",
       "      <th>count</th>\n",
       "      <td>37372.000</td>\n",
       "      <td>37372.000</td>\n",
       "      <td>37372.000</td>\n",
       "      <td>37372.000</td>\n",
       "      <td>37372.000</td>\n",
       "      <td>37372.000</td>\n",
       "    </tr>\n",
       "    <tr>\n",
       "      <th>mean</th>\n",
       "      <td>0.484</td>\n",
       "      <td>0.459</td>\n",
       "      <td>0.482</td>\n",
       "      <td>0.326</td>\n",
       "      <td>0.057</td>\n",
       "      <td>0.068</td>\n",
       "    </tr>\n",
       "    <tr>\n",
       "      <th>std</th>\n",
       "      <td>0.082</td>\n",
       "      <td>0.296</td>\n",
       "      <td>0.294</td>\n",
       "      <td>0.268</td>\n",
       "      <td>0.092</td>\n",
       "      <td>0.063</td>\n",
       "    </tr>\n",
       "    <tr>\n",
       "      <th>min</th>\n",
       "      <td>0.000</td>\n",
       "      <td>0.000</td>\n",
       "      <td>0.000</td>\n",
       "      <td>0.000</td>\n",
       "      <td>0.000</td>\n",
       "      <td>0.000</td>\n",
       "    </tr>\n",
       "    <tr>\n",
       "      <th>25%</th>\n",
       "      <td>0.474</td>\n",
       "      <td>0.180</td>\n",
       "      <td>0.214</td>\n",
       "      <td>0.100</td>\n",
       "      <td>0.006</td>\n",
       "      <td>0.021</td>\n",
       "    </tr>\n",
       "    <tr>\n",
       "      <th>50%</th>\n",
       "      <td>0.474</td>\n",
       "      <td>0.408</td>\n",
       "      <td>0.462</td>\n",
       "      <td>0.300</td>\n",
       "      <td>0.012</td>\n",
       "      <td>0.050</td>\n",
       "    </tr>\n",
       "    <tr>\n",
       "      <th>75%</th>\n",
       "      <td>0.474</td>\n",
       "      <td>0.703</td>\n",
       "      <td>0.741</td>\n",
       "      <td>0.500</td>\n",
       "      <td>0.063</td>\n",
       "      <td>0.098</td>\n",
       "    </tr>\n",
       "    <tr>\n",
       "      <th>max</th>\n",
       "      <td>1.000</td>\n",
       "      <td>1.000</td>\n",
       "      <td>1.000</td>\n",
       "      <td>1.000</td>\n",
       "      <td>1.000</td>\n",
       "      <td>1.000</td>\n",
       "    </tr>\n",
       "  </tbody>\n",
       "</table>\n",
       "</div>"
      ],
      "text/plain": [
       "           노출(분)       마더코드       상품코드        상품군       판매단가       취급액 \n",
       "count  37372.000  37372.000  37372.000  37372.000  37372.000  37372.000\n",
       "mean       0.484      0.459      0.482      0.326      0.057      0.068\n",
       "std        0.082      0.296      0.294      0.268      0.092      0.063\n",
       "min        0.000      0.000      0.000      0.000      0.000      0.000\n",
       "25%        0.474      0.180      0.214      0.100      0.006      0.021\n",
       "50%        0.474      0.408      0.462      0.300      0.012      0.050\n",
       "75%        0.474      0.703      0.741      0.500      0.063      0.098\n",
       "max        1.000      1.000      1.000      1.000      1.000      1.000"
      ]
     },
     "execution_count": 27,
     "metadata": {},
     "output_type": "execute_result"
    }
   ],
   "source": [
    "#scale 변환결과 확인: 요약통계량:pandas.DataFrame.describe()\n",
    "df_scale_minmax.describe().round(3) #최소 0, 최대 1로 변환됨"
   ]
  },
  {
   "cell_type": "markdown",
   "metadata": {},
   "source": [
    "#### 3) scale 변환 : 로버스트"
   ]
  },
  {
   "cell_type": "code",
   "execution_count": 28,
   "metadata": {},
   "outputs": [
    {
     "data": {
      "text/html": [
       "<div>\n",
       "<style scoped>\n",
       "    .dataframe tbody tr th:only-of-type {\n",
       "        vertical-align: middle;\n",
       "    }\n",
       "\n",
       "    .dataframe tbody tr th {\n",
       "        vertical-align: top;\n",
       "    }\n",
       "\n",
       "    .dataframe thead th {\n",
       "        text-align: right;\n",
       "    }\n",
       "</style>\n",
       "<table border=\"1\" class=\"dataframe\">\n",
       "  <thead>\n",
       "    <tr style=\"text-align: right;\">\n",
       "      <th></th>\n",
       "      <th>노출(분)</th>\n",
       "      <th>마더코드</th>\n",
       "      <th>상품코드</th>\n",
       "      <th>상품군</th>\n",
       "      <th>판매단가</th>\n",
       "    </tr>\n",
       "  </thead>\n",
       "  <tbody>\n",
       "    <tr>\n",
       "      <th>count</th>\n",
       "      <td>3.737200e+04</td>\n",
       "      <td>3.737200e+04</td>\n",
       "      <td>3.737200e+04</td>\n",
       "      <td>3.737200e+04</td>\n",
       "      <td>3.737200e+04</td>\n",
       "    </tr>\n",
       "    <tr>\n",
       "      <th>mean</th>\n",
       "      <td>4.350106e-16</td>\n",
       "      <td>-1.295526e-14</td>\n",
       "      <td>-1.927128e-15</td>\n",
       "      <td>5.475658e-17</td>\n",
       "      <td>3.042032e-18</td>\n",
       "    </tr>\n",
       "    <tr>\n",
       "      <th>std</th>\n",
       "      <td>1.000013e+00</td>\n",
       "      <td>1.000013e+00</td>\n",
       "      <td>1.000013e+00</td>\n",
       "      <td>1.000013e+00</td>\n",
       "      <td>1.000013e+00</td>\n",
       "    </tr>\n",
       "    <tr>\n",
       "      <th>min</th>\n",
       "      <td>-5.897615e+00</td>\n",
       "      <td>-1.549490e+00</td>\n",
       "      <td>-1.642524e+00</td>\n",
       "      <td>-1.215538e+00</td>\n",
       "      <td>-6.223360e-01</td>\n",
       "    </tr>\n",
       "    <tr>\n",
       "      <th>25%</th>\n",
       "      <td>-1.224577e-01</td>\n",
       "      <td>-9.408292e-01</td>\n",
       "      <td>-9.119888e-01</td>\n",
       "      <td>-8.422667e-01</td>\n",
       "      <td>-5.591728e-01</td>\n",
       "    </tr>\n",
       "  </tbody>\n",
       "</table>\n",
       "</div>"
      ],
      "text/plain": [
       "              노출(분)          마더코드          상품코드           상품군          판매단가\n",
       "count  3.737200e+04  3.737200e+04  3.737200e+04  3.737200e+04  3.737200e+04\n",
       "mean   4.350106e-16 -1.295526e-14 -1.927128e-15  5.475658e-17  3.042032e-18\n",
       "std    1.000013e+00  1.000013e+00  1.000013e+00  1.000013e+00  1.000013e+00\n",
       "min   -5.897615e+00 -1.549490e+00 -1.642524e+00 -1.215538e+00 -6.223360e-01\n",
       "25%   -1.224577e-01 -9.408292e-01 -9.119888e-01 -8.422667e-01 -5.591728e-01"
      ]
     },
     "execution_count": 28,
     "metadata": {},
     "output_type": "execute_result"
    }
   ],
   "source": [
    "df_scale_robust = robust_scale(df_raw)\n",
    "\n",
    "df_scale_robust = pd.DataFrame(df_scale_robust,columns=df_raw.columns)\n",
    "df_scale_desc.head()"
   ]
  },
  {
   "cell_type": "code",
   "execution_count": 29,
   "metadata": {},
   "outputs": [
    {
     "data": {
      "text/html": [
       "<div>\n",
       "<style scoped>\n",
       "    .dataframe tbody tr th:only-of-type {\n",
       "        vertical-align: middle;\n",
       "    }\n",
       "\n",
       "    .dataframe tbody tr th {\n",
       "        vertical-align: top;\n",
       "    }\n",
       "\n",
       "    .dataframe thead th {\n",
       "        text-align: right;\n",
       "    }\n",
       "</style>\n",
       "<table border=\"1\" class=\"dataframe\">\n",
       "  <thead>\n",
       "    <tr style=\"text-align: right;\">\n",
       "      <th></th>\n",
       "      <th>노출(분)</th>\n",
       "      <th>마더코드</th>\n",
       "      <th>상품코드</th>\n",
       "      <th>상품군</th>\n",
       "      <th>판매단가</th>\n",
       "      <th>취급액</th>\n",
       "    </tr>\n",
       "  </thead>\n",
       "  <tbody>\n",
       "    <tr>\n",
       "      <th>count</th>\n",
       "      <td>37372.000</td>\n",
       "      <td>37372.000</td>\n",
       "      <td>37372.000</td>\n",
       "      <td>37372.000</td>\n",
       "      <td>37372.000</td>\n",
       "      <td>37372.000</td>\n",
       "    </tr>\n",
       "    <tr>\n",
       "      <th>mean</th>\n",
       "      <td>0.382</td>\n",
       "      <td>0.098</td>\n",
       "      <td>0.039</td>\n",
       "      <td>0.064</td>\n",
       "      <td>0.796</td>\n",
       "      <td>0.232</td>\n",
       "    </tr>\n",
       "    <tr>\n",
       "      <th>std</th>\n",
       "      <td>3.117</td>\n",
       "      <td>0.566</td>\n",
       "      <td>0.557</td>\n",
       "      <td>0.670</td>\n",
       "      <td>1.625</td>\n",
       "      <td>0.816</td>\n",
       "    </tr>\n",
       "    <tr>\n",
       "      <th>min</th>\n",
       "      <td>-18.000</td>\n",
       "      <td>-0.779</td>\n",
       "      <td>-0.876</td>\n",
       "      <td>-0.750</td>\n",
       "      <td>-0.216</td>\n",
       "      <td>-0.650</td>\n",
       "    </tr>\n",
       "    <tr>\n",
       "      <th>25%</th>\n",
       "      <td>0.000</td>\n",
       "      <td>-0.435</td>\n",
       "      <td>-0.469</td>\n",
       "      <td>-0.500</td>\n",
       "      <td>-0.113</td>\n",
       "      <td>-0.374</td>\n",
       "    </tr>\n",
       "    <tr>\n",
       "      <th>50%</th>\n",
       "      <td>0.000</td>\n",
       "      <td>0.000</td>\n",
       "      <td>0.000</td>\n",
       "      <td>0.000</td>\n",
       "      <td>0.000</td>\n",
       "      <td>0.000</td>\n",
       "    </tr>\n",
       "    <tr>\n",
       "      <th>75%</th>\n",
       "      <td>0.000</td>\n",
       "      <td>0.565</td>\n",
       "      <td>0.531</td>\n",
       "      <td>0.500</td>\n",
       "      <td>0.887</td>\n",
       "      <td>0.626</td>\n",
       "    </tr>\n",
       "    <tr>\n",
       "      <th>max</th>\n",
       "      <td>20.000</td>\n",
       "      <td>1.133</td>\n",
       "      <td>1.022</td>\n",
       "      <td>1.750</td>\n",
       "      <td>17.378</td>\n",
       "      <td>12.359</td>\n",
       "    </tr>\n",
       "  </tbody>\n",
       "</table>\n",
       "</div>"
      ],
      "text/plain": [
       "           노출(분)       마더코드       상품코드        상품군       판매단가       취급액 \n",
       "count  37372.000  37372.000  37372.000  37372.000  37372.000  37372.000\n",
       "mean       0.382      0.098      0.039      0.064      0.796      0.232\n",
       "std        3.117      0.566      0.557      0.670      1.625      0.816\n",
       "min      -18.000     -0.779     -0.876     -0.750     -0.216     -0.650\n",
       "25%        0.000     -0.435     -0.469     -0.500     -0.113     -0.374\n",
       "50%        0.000      0.000      0.000      0.000      0.000      0.000\n",
       "75%        0.000      0.565      0.531      0.500      0.887      0.626\n",
       "max       20.000      1.133      1.022      1.750     17.378     12.359"
      ]
     },
     "execution_count": 29,
     "metadata": {},
     "output_type": "execute_result"
    }
   ],
   "source": [
    "#scale 변환결과 확인: 요약통계량:pandas.DataFrame.describe()\n",
    "df_scale_robust.describe().round(3)"
   ]
  },
  {
   "cell_type": "markdown",
   "metadata": {},
   "source": [
    "#### 4) Scale 변환 결과 비교"
   ]
  },
  {
   "cell_type": "code",
   "execution_count": 30,
   "metadata": {},
   "outputs": [],
   "source": [
    "# df_rtspulse = pd.DataFrame()\n",
    "# df_rtspulse['raw'] = df_raw[' 취급액 ']\n",
    "# df_rtspulse['Standard'] = df_scale_std[' 취급액 ']\n",
    "# df_rtspulse['MinMax'] = df_scale_minmax[' 취급액 ']\n",
    "# df_rtspulse['Robust'] = df_scale_robust[' 취급액 ']\n",
    "# df_rtspulse.head().round(3)\n",
    "# df_rtspulse.describe().round(3)"
   ]
  },
  {
   "cell_type": "code",
   "execution_count": 31,
   "metadata": {
    "scrolled": true
   },
   "outputs": [],
   "source": [
    "# df_rtspulse[['raw','Standard','MinMax','Robust']].hist(figsize=(10,5))"
   ]
  },
  {
   "cell_type": "markdown",
   "metadata": {},
   "source": [
    "# 5. 다중공선성 확인"
   ]
  },
  {
   "cell_type": "code",
   "execution_count": 32,
   "metadata": {},
   "outputs": [],
   "source": [
    "from statsmodels.api import qqplot,add_constant\n",
    "# 다중공선성 확인\n",
    "from statsmodels.stats.outliers_influence import variance_inflation_factor"
   ]
  },
  {
   "cell_type": "code",
   "execution_count": 33,
   "metadata": {},
   "outputs": [
    {
     "data": {
      "text/html": [
       "<div>\n",
       "<style scoped>\n",
       "    .dataframe tbody tr th:only-of-type {\n",
       "        vertical-align: middle;\n",
       "    }\n",
       "\n",
       "    .dataframe tbody tr th {\n",
       "        vertical-align: top;\n",
       "    }\n",
       "\n",
       "    .dataframe thead th {\n",
       "        text-align: right;\n",
       "    }\n",
       "</style>\n",
       "<table border=\"1\" class=\"dataframe\">\n",
       "  <thead>\n",
       "    <tr style=\"text-align: right;\">\n",
       "      <th></th>\n",
       "      <th>variable</th>\n",
       "      <th>VIF</th>\n",
       "    </tr>\n",
       "  </thead>\n",
       "  <tbody>\n",
       "    <tr>\n",
       "      <th>0</th>\n",
       "      <td>const</td>\n",
       "      <td>1.000</td>\n",
       "    </tr>\n",
       "    <tr>\n",
       "      <th>1</th>\n",
       "      <td>노출(분)</td>\n",
       "      <td>1.042</td>\n",
       "    </tr>\n",
       "    <tr>\n",
       "      <th>4</th>\n",
       "      <td>상품군</td>\n",
       "      <td>1.067</td>\n",
       "    </tr>\n",
       "    <tr>\n",
       "      <th>5</th>\n",
       "      <td>판매단가</td>\n",
       "      <td>1.153</td>\n",
       "    </tr>\n",
       "    <tr>\n",
       "      <th>2</th>\n",
       "      <td>마더코드</td>\n",
       "      <td>24.015</td>\n",
       "    </tr>\n",
       "    <tr>\n",
       "      <th>3</th>\n",
       "      <td>상품코드</td>\n",
       "      <td>24.115</td>\n",
       "    </tr>\n",
       "  </tbody>\n",
       "</table>\n",
       "</div>"
      ],
      "text/plain": [
       "  variable     VIF\n",
       "0    const   1.000\n",
       "1    노출(분)   1.042\n",
       "4      상품군   1.067\n",
       "5     판매단가   1.153\n",
       "2     마더코드  24.015\n",
       "3     상품코드  24.115"
      ]
     },
     "execution_count": 33,
     "metadata": {},
     "output_type": "execute_result"
    }
   ],
   "source": [
    "#설명변수 간의 다중공선성 확인: 설명변수 데이터 생성 및 상수항 추가\n",
    "df_raw_x = df_scale_std\n",
    "\n",
    "#statsmodels의 상수항 추가 함수 적용\n",
    "df_raw_x_const = add_constant(df_raw_x)\n",
    "\n",
    "#DataFrame으로 지정\n",
    "df_vif = pd.DataFrame()\n",
    "df_vif['variable'] = df_raw_x_const.columns\n",
    "df_vif['VIF'] = [variance_inflation_factor(df_raw_x_const.values,i)\n",
    "               for i in range(df_raw_x_const.shape[1])]\n",
    "#VIF 정렬\n",
    "df_vif.sort_values('VIF', inplace = True)\n",
    "df_vif.round(3)"
   ]
  },
  {
   "cell_type": "code",
   "execution_count": 34,
   "metadata": {},
   "outputs": [
    {
     "data": {
      "text/html": [
       "<div>\n",
       "<style scoped>\n",
       "    .dataframe tbody tr th:only-of-type {\n",
       "        vertical-align: middle;\n",
       "    }\n",
       "\n",
       "    .dataframe tbody tr th {\n",
       "        vertical-align: top;\n",
       "    }\n",
       "\n",
       "    .dataframe thead th {\n",
       "        text-align: right;\n",
       "    }\n",
       "</style>\n",
       "<table border=\"1\" class=\"dataframe\">\n",
       "  <thead>\n",
       "    <tr style=\"text-align: right;\">\n",
       "      <th></th>\n",
       "      <th>variable</th>\n",
       "      <th>VIF</th>\n",
       "    </tr>\n",
       "  </thead>\n",
       "  <tbody>\n",
       "    <tr>\n",
       "      <th>1</th>\n",
       "      <td>노출(분)</td>\n",
       "      <td>1.027</td>\n",
       "    </tr>\n",
       "    <tr>\n",
       "      <th>2</th>\n",
       "      <td>상품군</td>\n",
       "      <td>1.050</td>\n",
       "    </tr>\n",
       "    <tr>\n",
       "      <th>4</th>\n",
       "      <td>취급액</td>\n",
       "      <td>1.073</td>\n",
       "    </tr>\n",
       "    <tr>\n",
       "      <th>3</th>\n",
       "      <td>판매단가</td>\n",
       "      <td>1.138</td>\n",
       "    </tr>\n",
       "    <tr>\n",
       "      <th>0</th>\n",
       "      <td>const</td>\n",
       "      <td>46.029</td>\n",
       "    </tr>\n",
       "  </tbody>\n",
       "</table>\n",
       "</div>"
      ],
      "text/plain": [
       "  variable     VIF\n",
       "1    노출(분)   1.027\n",
       "2      상품군   1.050\n",
       "4     취급액    1.073\n",
       "3     판매단가   1.138\n",
       "0    const  46.029"
      ]
     },
     "execution_count": 34,
     "metadata": {},
     "output_type": "execute_result"
    }
   ],
   "source": [
    "# 다중공선성 높은 변수 제거 후 공선성 재확인\n",
    "df_raw_x = df.drop(['마더코드','상품코드'],axis=1)\n",
    "\n",
    "#statsmodels의 상수항 추가 함수 적용\n",
    "df_raw_x_const = add_constant(df_raw_x)\n",
    "\n",
    "#DataFrame으로 지정\n",
    "df_vif = pd.DataFrame()\n",
    "df_vif['variable'] = df_raw_x_const.columns\n",
    "df_vif['VIF'] = [variance_inflation_factor(df_raw_x_const.values,i)\n",
    "               for i in range(df_raw_x_const.shape[1])]\n",
    "#VIF 정렬\n",
    "df_vif.sort_values('VIF', inplace = True)\n",
    "df_vif.round(3)"
   ]
  },
  {
   "cell_type": "markdown",
   "metadata": {},
   "source": [
    "# 6. 모델 생성"
   ]
  },
  {
   "cell_type": "code",
   "execution_count": 35,
   "metadata": {},
   "outputs": [],
   "source": [
    "# 선형회귀모형\n",
    "from sklearn.linear_model import LinearRegression\n",
    "# 의사결정나무_예측\n",
    "from sklearn.tree import DecisionTreeRegressor\n",
    "# 랜덤 포레스트\n",
    "from sklearn.ensemble import RandomForestRegressor as RFR\n",
    "# 그래디언트 부스팅\n",
    "from sklearn.ensemble import GradientBoostingRegressor as GBR\n",
    "\n",
    "# 평가함수\n",
    "from statsmodels.tools.eval_measures import rmse\n",
    "#데이터 분할:train, test\n",
    "from sklearn.model_selection import train_test_split"
   ]
  },
  {
   "cell_type": "code",
   "execution_count": 36,
   "metadata": {},
   "outputs": [],
   "source": [
    "# # 목표변수, 설명변수 데이터 지정\n",
    "# df_y = df[' 취급액 ']\n",
    "# df_x = df.drop(' 취급액 ', axis=1, inplace=False)"
   ]
  },
  {
   "cell_type": "code",
   "execution_count": 37,
   "metadata": {},
   "outputs": [],
   "source": [
    "# # 목표변수, 설명변수 데이터 지정\n",
    "# df_y = df_scale_std[' 취급액 ']\n",
    "# df_x = df_scale_std.drop(' 취급액 ', axis=1, inplace=False)"
   ]
  },
  {
   "cell_type": "code",
   "execution_count": 38,
   "metadata": {},
   "outputs": [],
   "source": [
    "df_x = df_scale_std"
   ]
  },
  {
   "cell_type": "markdown",
   "metadata": {},
   "source": [
    "## 1) 데이터 구성하기\n",
    "### train(0.4) : validation(0.3) : test(0.3)의 비율로 분할"
   ]
  },
  {
   "cell_type": "code",
   "execution_count": 39,
   "metadata": {},
   "outputs": [
    {
     "name": "stdout",
     "output_type": "stream",
     "text": [
      "train data X size : (26160, 5)\n",
      "train data Y size : (26160,)\n",
      "test data X size : (11212, 5)\n",
      "test data X size : (11212,)\n"
     ]
    }
   ],
   "source": [
    "df_train_x,df_test_x, df_train_y, df_test_y = train_test_split(df_x, df_y,test_size = 0.3, shuffle = True, random_state = 1234)\n",
    "\n",
    "print('train data X size : {}'.format(df_train_x.shape))\n",
    "print('train data Y size : {}'.format(df_train_y.shape))\n",
    "print('test data X size : {}'.format(df_test_x.shape))\n",
    "print('test data X size : {}'.format(df_test_y.shape))"
   ]
  },
  {
   "cell_type": "code",
   "execution_count": 40,
   "metadata": {},
   "outputs": [
    {
     "name": "stdout",
     "output_type": "stream",
     "text": [
      "train data X size : (14948, 5)\n",
      "train data Y size : (14948,)\n",
      "validation data X size : (11212, 5)\n",
      "validation data X size : (11212,)\n"
     ]
    }
   ],
   "source": [
    "df_train_x, df_val_x, df_train_y, df_val_y = train_test_split(df_train_x, df_train_y ,test_size = 3/7, shuffle = True, random_state = 1234)\n",
    "\n",
    "print('train data X size : {}'.format(df_train_x.shape))\n",
    "print('train data Y size : {}'.format(df_train_y.shape))\n",
    "print('validation data X size : {}'.format(df_val_x.shape))\n",
    "print('validation data X size : {}'.format(df_val_y.shape))"
   ]
  },
  {
   "cell_type": "code",
   "execution_count": 41,
   "metadata": {},
   "outputs": [
    {
     "name": "stdout",
     "output_type": "stream",
     "text": [
      "train data X size : (14948, 5)\n",
      "train data Y size : (14948,)\n",
      "validation data X size : (11212, 5)\n",
      "validation data X size : (11212,)\n",
      "test data X size : (11212, 5)\n",
      "test data X size : (11212,)\n"
     ]
    }
   ],
   "source": [
    "print('train data X size : {}'.format(df_train_x.shape))\n",
    "print('train data Y size : {}'.format(df_train_y.shape))\n",
    "print('validation data X size : {}'.format(df_val_x.shape))\n",
    "print('validation data X size : {}'.format(df_val_y.shape))\n",
    "print('test data X size : {}'.format(df_test_x.shape))\n",
    "print('test data X size : {}'.format(df_test_y.shape))"
   ]
  },
  {
   "cell_type": "markdown",
   "metadata": {},
   "source": [
    "## 2) 모델 생성"
   ]
  },
  {
   "cell_type": "code",
   "execution_count": 42,
   "metadata": {},
   "outputs": [
    {
     "name": "stdout",
     "output_type": "stream",
     "text": [
      "Score on training set:0.075\n",
      "Score on validation set:0.082\n",
      "Score on test set:0.076\n"
     ]
    }
   ],
   "source": [
    "lr_model = LinearRegression()\n",
    "lr_model.fit(df_train_x,df_train_y)\n",
    "\n",
    "# Train 데이터 설명력\n",
    "print('Score on training set:{:.3f}'.format(lr_model.score(df_train_x,df_train_y)))\n",
    "# validation 데이터 설명력\n",
    "print('Score on validation set:{:.3f}'.format(lr_model.score(df_val_x,df_val_y)))\n",
    "# Test 데이터 설명력\n",
    "print('Score on test set:{:.3f}'.format(lr_model.score(df_test_x,df_test_y)))"
   ]
  },
  {
   "cell_type": "code",
   "execution_count": 43,
   "metadata": {},
   "outputs": [
    {
     "name": "stdout",
     "output_type": "stream",
     "text": [
      "Score on training set:0.626\n",
      "Score on validation set:0.539\n",
      "Score on test set:0.545\n"
     ]
    }
   ],
   "source": [
    "dt_model = DecisionTreeRegressor(random_state=1234)\n",
    "dt_model.fit(df_train_x,df_train_y)\n",
    "\n",
    "# Train 데이터 설명력\n",
    "print('Score on training set:{:.3f}'.format(dt_model.score(df_train_x,df_train_y)))\n",
    "# validation 데이터 설명력\n",
    "print('Score on validation set:{:.3f}'.format(dt_model.score(df_val_x,df_val_y)))\n",
    "# Test 데이터 설명력\n",
    "print('Score on test set:{:.3f}'.format(dt_model.score(df_test_x,df_test_y)))"
   ]
  },
  {
   "cell_type": "code",
   "execution_count": 44,
   "metadata": {},
   "outputs": [
    {
     "name": "stdout",
     "output_type": "stream",
     "text": [
      "Score on training set:0.623\n",
      "Score on validation set:0.552\n",
      "Score on test set: 0.555\n"
     ]
    }
   ],
   "source": [
    "rf_model = RFR(random_state=1234)\n",
    "rf_model.fit(df_train_x,df_train_y)\n",
    "#Train 데이터 설명력\n",
    "print(\"Score on training set:{:.3f}\".format(rf_model.score(df_train_x,df_train_y)))\n",
    "# validation 데이터 설명력\n",
    "print('Score on validation set:{:.3f}'.format(rf_model.score(df_val_x,df_val_y)))\n",
    "#test 데이터 설명력\n",
    "print(\"Score on test set: {:.3f}\".format(rf_model.score(df_test_x,df_test_y)))"
   ]
  },
  {
   "cell_type": "code",
   "execution_count": 45,
   "metadata": {},
   "outputs": [
    {
     "name": "stdout",
     "output_type": "stream",
     "text": [
      "Score on training set:0.377\n",
      "Score on validation set:0.389\n",
      "Score on test set: 0.376\n"
     ]
    }
   ],
   "source": [
    "gb_model=GBR(random_state=1234)\n",
    "gb_model.fit(df_train_x,df_train_y)\n",
    "#Train 데이터 설명력\n",
    "print(\"Score on training set:{:.3f}\".format(gb_model.score(df_train_x,df_train_y)))\n",
    "# validation 데이터 설명력\n",
    "print('Score on validation set:{:.3f}'.format(gb_model.score(df_val_x,df_val_y)))\n",
    "#test 데이터 설명력\n",
    "print(\"Score on test set: {:.3f}\".format(gb_model.score(df_test_x,df_test_y)))"
   ]
  },
  {
   "cell_type": "markdown",
   "metadata": {},
   "source": [
    "#  7. 모델 평가"
   ]
  },
  {
   "cell_type": "code",
   "execution_count": 46,
   "metadata": {},
   "outputs": [],
   "source": [
    "#평가함수\n",
    "from sklearn.metrics import mean_squared_error\n",
    "from sklearn.metrics import mean_absolute_error"
   ]
  },
  {
   "cell_type": "code",
   "execution_count": 47,
   "metadata": {},
   "outputs": [],
   "source": [
    "#모델리스트, 그래프를 그리기 생성목적\n",
    "models=[\"Decision Tree\",\"Random Forest\",\"Gradient Boosting\"]\n",
    "#평가 리스트 초기화\n",
    "mse,mae=[],[]"
   ]
  },
  {
   "cell_type": "markdown",
   "metadata": {},
   "source": [
    "#### 의사결정나무"
   ]
  },
  {
   "cell_type": "code",
   "execution_count": 48,
   "metadata": {},
   "outputs": [],
   "source": [
    "#예측\n",
    "dt_y_pred=dt_model.predict(df_test_x)\n",
    "\n",
    "#평가\n",
    "mse.append(mean_squared_error(df_test_y,dt_y_pred))\n",
    "\n",
    "mae.append(mean_absolute_error(df_test_y,dt_y_pred))"
   ]
  },
  {
   "cell_type": "markdown",
   "metadata": {},
   "source": [
    "#### 랜덤포레스트"
   ]
  },
  {
   "cell_type": "code",
   "execution_count": 49,
   "metadata": {},
   "outputs": [],
   "source": [
    "#예측\n",
    "rf_y_pred=rf_model.predict(df_test_x)\n",
    "\n",
    "#평가\n",
    "mse.append(mean_squared_error(df_test_y,rf_y_pred))\n",
    "\n",
    "mae.append(mean_absolute_error(df_test_y,rf_y_pred))\n"
   ]
  },
  {
   "cell_type": "markdown",
   "metadata": {},
   "source": [
    "#### 그래디언트 부스팅"
   ]
  },
  {
   "cell_type": "code",
   "execution_count": 50,
   "metadata": {},
   "outputs": [],
   "source": [
    "#예측\n",
    "rf_y_pred=rf_model.predict(df_test_x)\n",
    "\n",
    "#평가\n",
    "mse.append(mean_squared_error(df_test_y,rf_y_pred))\n",
    "\n",
    "mae.append(mean_absolute_error(df_test_y,rf_y_pred))\n"
   ]
  },
  {
   "cell_type": "code",
   "execution_count": 51,
   "metadata": {
    "scrolled": true
   },
   "outputs": [
    {
     "data": {
      "image/png": "[encoded data removed]",
      "text/plain": [
       "<Figure size 936x360 with 2 Axes>"
      ]
     },
     "metadata": {
      "needs_background": "light"
     },
     "output_type": "display_data"
    }
   ],
   "source": [
    "fig,ax=plt.subplots(1,2,figsize=(13,5))\n",
    "\n",
    "ax[0,].bar(models, mse)\n",
    "ax[0,].set_title(\"mse\").set_fontsize(15)\n",
    "\n",
    "\n",
    "ax[1,].bar(models, mae)\n",
    "ax[1,].set_title(\"mae\").set_fontsize(15)"
   ]
  },
  {
   "cell_type": "code",
   "execution_count": null,
   "metadata": {},
   "outputs": [],
   "source": []
  }
 ],
 "metadata": {
  "kernelspec": {
   "display_name": "Python 3",
   "language": "python",
   "name": "python3"
  },
  "language_info": {
   "codemirror_mode": {
    "name": "ipython",
    "version": 3
   },
   "file_extension": ".py",
   "mimetype": "text/x-python",
   "name": "python",
   "nbconvert_exporter": "python",
   "pygments_lexer": "ipython3",
   "version": "3.7.7"
  }
 },
 "nbformat": 4,
 "nbformat_minor": 4
}
